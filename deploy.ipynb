{
 "cells": [
  {
   "cell_type": "code",
   "execution_count": 1,
   "metadata": {},
   "outputs": [],
   "source": [
    "import torch\n",
    "from model.UNET import *\n",
    "import numpy as np\n",
    "import cv2\n",
    "import torchvision.transforms as transforms\n",
    "from PIL import Image\n",
    "from matplotlib import pyplot as plt"
   ]
  },
  {
   "cell_type": "code",
   "execution_count": 2,
   "metadata": {},
   "outputs": [],
   "source": [
    "\n",
    "#Save scripted model\n",
    "model=UNet(n_channels=3,n_classes=3)\n",
    "# model.load_state_dict(torch.load('D:\\\\UBB\\\\CVDL\\\\Project\\\\model\\\\model6.pth'))\n",
    "model.load_state_dict(torch.load('D:\\\\UBB\\\\CVDL\\\\Project\\\\checkpoints\\\\best_run.pth'))\n",
    "\n",
    "\n",
    "model.eval()\n",
    "#example = torch.rand(1, 3, 256, 256)\n",
    "scripted_model=torch.jit.script(model)\n",
    "\n",
    "# scripted_model.save(\"D:\\\\UBB\\\\CVDL\\\\Project\\\\scripted\\\\scripted_model6.pt\")\n",
    "scripted_model.save(\"D:\\\\UBB\\\\CVDL\\\\Project\\\\scripted\\\\scripted_model7.pt\")\n",
    "\n"
   ]
  },
  {
   "cell_type": "code",
   "execution_count": 3,
   "metadata": {},
   "outputs": [],
   "source": [
    "model = torch.jit.load(\"D:\\\\UBB\\\\CVDL\\\\Project\\\\scripted\\\\scripted_model6.pt\")\n",
    "def get_mask(img):\n",
    "    model.eval()\n",
    "    img=img.unsqueeze(0)\n",
    "    with torch.no_grad():\n",
    "        mask=model(img)\n",
    "        mask=mask.squeeze(0).detach()\n",
    "        mask=mask.permute(1,2,0).numpy()\n",
    "        mask = (mask - mask.min()) / (mask.max() - mask.min()) * 255\n",
    "        return mask.astype(np.uint8)\n",
    "    \n",
    "def get_mask2(img):\n",
    "    model.eval()\n",
    "    img=img.unsqueeze(0)\n",
    "    with torch.no_grad():\n",
    "        mask=model(img)\n",
    "        mask=mask.squeeze(0).detach()\n",
    "        mask=mask.permute(1,2,0)\n",
    "        return mask\n",
    "    \n",
    "def blur_background(img):\n",
    "    transform = transforms.Compose([\n",
    "        transforms.Resize(256),\n",
    "        transforms.CenterCrop(224),\n",
    "        transforms.ToTensor()\n",
    "    ])\n",
    "    img = Image.fromarray(np.uint8(img))\n",
    "    img = transform(img)\n",
    "    \n",
    "    mask=get_mask2(img)\n",
    "    mask=mask.numpy()\n",
    "    mask=mask.argmax(2)\n",
    "\n",
    "    blurred_image=np.copy(img)\n",
    "    blurred_image=blurred_image.astype(float)\n",
    "    blurred_image=np.transpose(blurred_image,(1,2,0))\n",
    "\n",
    "    background_mask = mask==2\n",
    "\n",
    "    blurred_background=cv2.GaussianBlur(blurred_image,(51,51),0)\n",
    "    blurred_image[background_mask]=blurred_background[background_mask]\n",
    "    return blurred_image\n",
    "\n",
    "    \n",
    "    \n"
   ]
  },
  {
   "cell_type": "code",
   "execution_count": 4,
   "metadata": {},
   "outputs": [
    {
     "name": "stdout",
     "output_type": "stream",
     "text": [
      "Running on local URL:  http://127.0.0.1:7860\n",
      "\n",
      "To create a public link, set `share=True` in `launch()`.\n"
     ]
    },
    {
     "data": {
      "text/html": [
       "<div><iframe src=\"http://127.0.0.1:7860/\" width=\"100%\" height=\"500\" allow=\"autoplay; camera; microphone; clipboard-read; clipboard-write;\" frameborder=\"0\" allowfullscreen></iframe></div>"
      ],
      "text/plain": [
       "<IPython.core.display.HTML object>"
      ]
     },
     "metadata": {},
     "output_type": "display_data"
    },
    {
     "data": {
      "text/plain": []
     },
     "execution_count": 4,
     "metadata": {},
     "output_type": "execute_result"
    }
   ],
   "source": [
    "import gradio as gr\n",
    "\n",
    "demo = gr.Interface(fn=blur_background,\n",
    "                    inputs=gr.Image(),\n",
    "                    #inputs=gr.Image(sources=[\"webcam\"]),\n",
    "                    outputs=\"image\",\n",
    "                    title=\"Image background blur!\")\n",
    "\n",
    "demo.launch()"
   ]
  }
 ],
 "metadata": {
  "kernelspec": {
   "display_name": "Python 3",
   "language": "python",
   "name": "python3"
  },
  "language_info": {
   "codemirror_mode": {
    "name": "ipython",
    "version": 3
   },
   "file_extension": ".py",
   "mimetype": "text/x-python",
   "name": "python",
   "nbconvert_exporter": "python",
   "pygments_lexer": "ipython3",
   "version": "3.11.5"
  },
  "orig_nbformat": 4
 },
 "nbformat": 4,
 "nbformat_minor": 2
}
